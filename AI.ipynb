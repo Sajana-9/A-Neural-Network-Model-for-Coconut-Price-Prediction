{
  "nbformat": 4,
  "nbformat_minor": 0,
  "metadata": {
    "colab": {
      "provenance": []
    },
    "kernelspec": {
      "name": "python3",
      "display_name": "Python 3"
    },
    "language_info": {
      "name": "python"
    }
  },
  "cells": [
    {
      "cell_type": "code",
      "source": [],
      "metadata": {
        "id": "V-kWnaMlNqnM"
      },
      "execution_count": 2,
      "outputs": []
    },
    {
      "source": [
        "import pandas as pd\n",
        "from sklearn.model_selection import train_test_split\n",
        "import tensorflow as tf\n",
        "from sklearn.preprocessing import MinMaxScaler\n",
        "import numpy as np\n",
        "from sklearn.metrics import mean_squared_error\n",
        "\n",
        "# Load the dataset\n",
        "dataset = pd.read_csv('Coconut_Price_SriLanka_2005_2025.csv')\n",
        "\n",
        "# Convert 'Month' column to datetime objects\n",
        "dataset['Month'] = pd.to_datetime(dataset['Month'], format='%d/%m/%Y')\n",
        "\n",
        "# Convert datetime objects to ordinal values (number of days since a reference date)\n",
        "x = dataset['Month'].apply(lambda date: date.toordinal())\n",
        "x = pd.DataFrame(x)\n",
        "\n",
        "# Separate target variable\n",
        "y = dataset[\"Coconut_Price\"]\n",
        "\n",
        "# Scale features and target\n",
        "x_scaler = MinMaxScaler()\n",
        "x_scaled = x_scaler.fit_transform(x)\n",
        "y_scaler = MinMaxScaler()\n",
        "y_scaled = y_scaler.fit_transform(y.values.reshape(-1, 1))\n",
        "\n",
        "# Split data into training and testing sets\n",
        "x_train, x_test, y_train, y_test = train_test_split(x_scaled, y_scaled, test_size=0.2, random_state = 42)\n",
        "\n",
        "# Build the model\n",
        "model = tf.keras.models.Sequential()\n",
        "model.add(tf.keras.layers.Dense(256, input_shape=(x_train.shape[1],), activation='sigmoid'))\n",
        "model.add(tf.keras.layers.Dense(256, activation='sigmoid'))\n",
        "model.add(tf.keras.layers.Dense(1))\n",
        "\n",
        "# Compile the model\n",
        "model.compile(optimizer='adam', loss='mse')\n",
        "\n",
        "# Train the model\n",
        "model.fit(x_train, y_train, epochs=20, verbose=0)\n",
        "\n",
        "\n",
        "# Evaluate the model\n",
        "test_loss = model.evaluate(x_test, y_test, verbose=0)\n",
        "print(f\"Test Loss (MSE): {test_loss:.4f}\")\n",
        "\n",
        "# Make predictions on the test set\n",
        "y_pred_scaled = model.predict(x_test)\n",
        "\n",
        "# Invert scaling to get predictions in the original scale\n",
        "y_pred = y_scaler.inverse_transform(y_pred_scaled)\n",
        "y_true = y_scaler.inverse_transform(y_test)\n",
        "\n",
        "# Evaluate the predictions\n",
        "rmse = np.sqrt(mean_squared_error(y_true, y_pred))\n",
        "print(f\"Root Mean Squared Error (RMSE): {rmse:.2f}\")\n",
        "\n",
        "# If you want to make a new prediction:\n",
        "new_date = pd.to_datetime('01/02/2028', format = '%d/%m/%Y')\n",
        "new_date_ordinal = new_date.toordinal()\n",
        "\n",
        "new_date_scaled = x_scaler.transform([[new_date_ordinal]])\n",
        "\n",
        "# Predict the coconut price\n",
        "predicted_price_scaled = model.predict(new_date_scaled)\n",
        "predicted_price = y_scaler.inverse_transform(predicted_price_scaled)\n",
        "print(f\"Predicted Coconut Price for {new_date.strftime('%d/%m/%Y')}: {predicted_price[0][0]:.2f}\")\n",
        "\n",
        "model.save('Coconut_Price_model.h5')\n",
        "\n",
        "from google.colab import files\n",
        "files.download('Coconut_Price_model.h5')"
      ],
      "cell_type": "code",
      "metadata": {
        "colab": {
          "base_uri": "https://localhost:8080/"
        },
        "id": "GoyDxVVXQ4bC",
        "outputId": "ccc8824c-6197-47f0-e91b-65c79012a581"
      },
      "execution_count": 7,
      "outputs": [
        {
          "output_type": "stream",
          "name": "stdout",
          "text": [
            "Root Mean Squared Error (RMSE): 162.31\n"
          ]
        }
      ]
    },
    {
      "cell_type": "code",
      "source": [],
      "metadata": {
        "id": "ZROdeUZVRAEg"
      },
      "execution_count": 3,
      "outputs": []
    }
  ]
}